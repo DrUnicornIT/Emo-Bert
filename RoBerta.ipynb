{
 "cells": [
  {
   "cell_type": "code",
   "execution_count": 17,
   "metadata": {
    "collapsed": true
   },
   "outputs": [],
   "source": [
    "import torch\n",
    "from torch import nn\n",
    "import torch.nn.functional as F\n",
    "from torch.utils.data import DataLoader, Dataset\n",
    "\n",
    "from tokenizers import ByteLevelBPETokenizer\n",
    "from tokenizers.processors import BertProcessing"
   ]
  },
  {
   "cell_type": "code",
   "execution_count": 10,
   "outputs": [
    {
     "name": "stdout",
     "output_type": "stream",
     "text": [
      "text        20000\n",
      "emotions    20000\n",
      "dtype: int64\n",
      "                                                     text emotions\n",
      "29865   i feel very stubborn and i feel very unhappy w...    anger\n",
      "28767   i feel a sense of unreality as i sit here typi...      joy\n",
      "47145   i feel like i need to make them more casual bu...      joy\n",
      "20875   i feel somewhat alarmed that the semester is a...     fear\n",
      "15697   i feel like i am going to vomit a lot and i am...     fear\n",
      "97632   i wake up feeling groggy and fatigued but simp...  sadness\n",
      "24569                      i don t feel excited nor giddy      joy\n",
      "80161          i guess i should feel appreciative of that      joy\n",
      "129326  im feeling a bit mamma cass at the moment but ...      joy\n",
      "16266   i feel dissatisfied every day at work because ...    anger\n"
     ]
    },
    {
     "data": {
      "text/plain": "<Figure size 640x480 with 1 Axes>",
      "image/png": "[encoded data removed]"
     },
     "metadata": {},
     "output_type": "display_data"
    }
   ],
   "source": [
    "class DatasetDairAIEmo():\n",
    "    emotions = [\"sadness\", \"joy\", \"love\", \"anger\", \"fear\", \"surprise\"]\n",
    "    def load_from_pickle(directory):\n",
    "        return pickle.load(open(directory, \"rb\"))\n",
    "\n",
    "    data = load_from_pickle(directory=\"Data/merged_training.pkl\")\n",
    "\n",
    "    data = data[data[\"emotions\"].isin(emotions)]\n",
    "\n",
    "    data = data.sample(n=20000);\n",
    "\n",
    "    data.emotions.value_counts().plot.bar()\n",
    "\n",
    "    print(data.count())\n",
    "    print(data.head(10))"
   ],
   "metadata": {
    "collapsed": false
   }
  },
  {
   "cell_type": "code",
   "execution_count": 12,
   "outputs": [
    {
     "ename": "NameError",
     "evalue": "name 'load_dataset' is not defined",
     "output_type": "error",
     "traceback": [
      "\u001B[0;31m---------------------------------------------------------------------------\u001B[0m",
      "\u001B[0;31mNameError\u001B[0m                                 Traceback (most recent call last)",
      "Cell \u001B[0;32mIn[12], line 1\u001B[0m\n\u001B[0;32m----> 1\u001B[0m dataset \u001B[38;5;241m=\u001B[39m load_dataset(\u001B[38;5;124m\"\u001B[39m\u001B[38;5;124mdair-ai/emotion\u001B[39m\u001B[38;5;124m\"\u001B[39m)\n",
      "\u001B[0;31mNameError\u001B[0m: name 'load_dataset' is not defined"
     ]
    }
   ],
   "source": [
    "dataset = load_dataset(\"dair-ai/emotion\")\n"
   ],
   "metadata": {
    "collapsed": false
   }
  },
  {
   "cell_type": "code",
   "execution_count": null,
   "outputs": [],
   "source": [],
   "metadata": {
    "collapsed": false
   }
  }
 ],
 "metadata": {
  "kernelspec": {
   "display_name": "Python 3",
   "language": "python",
   "name": "python3"
  },
  "language_info": {
   "codemirror_mode": {
    "name": "ipython",
    "version": 2
   },
   "file_extension": ".py",
   "mimetype": "text/x-python",
   "name": "python",
   "nbconvert_exporter": "python",
   "pygments_lexer": "ipython2",
   "version": "2.7.6"
  }
 },
 "nbformat": 4,
 "nbformat_minor": 0
}
